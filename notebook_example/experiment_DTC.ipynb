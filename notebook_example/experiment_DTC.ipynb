{
 "cells": [
  {
   "cell_type": "code",
   "execution_count": 1,
   "metadata": {
    "ExecuteTime": {
     "end_time": "2024-06-06T12:33:18.162188Z",
     "start_time": "2024-06-06T12:33:18.155786Z"
    }
   },
   "outputs": [
    {
     "name": "stdout",
     "output_type": "stream",
     "text": [
      "env: AWS_ACCESS_KEY_ID=minio\n",
      "env: AWS_SECRET_ACCESS_KEY=minio123\n",
      "env: MLFLOW_S3_ENDPOINT_URL=http://localhost:9000\n",
      "env: AWS_ENDPOINT_URL_S3=http://localhost:9000\n"
     ]
    }
   ],
   "source": [
    "import awswrangler as wr\n",
    "\n",
    "import mlflow\n",
    "\n",
    "# Para que funciones, todos nuestros scripts debemos exportar las siguientes variables de entorno\n",
    "%env AWS_ACCESS_KEY_ID=minio   \n",
    "%env AWS_SECRET_ACCESS_KEY=minio123 \n",
    "%env MLFLOW_S3_ENDPOINT_URL=http://localhost:9000\n",
    "%env AWS_ENDPOINT_URL_S3=http://localhost:9000"
   ]
  },
  {
   "cell_type": "markdown",
   "metadata": {},
   "source": [
    "# Entrenamos el modelo con DTC\n",
    "\n",
    "Probaremos el modelo con DTC, con búsqueda de hiperparámetros mediante optuna."
   ]
  },
  {
   "cell_type": "code",
   "execution_count": 2,
   "metadata": {
    "ExecuteTime": {
     "end_time": "2024-06-06T12:33:21.563179Z",
     "start_time": "2024-06-06T12:33:21.560951Z"
    }
   },
   "outputs": [],
   "source": [
    "mlflow_server = \"http://localhost:5001\"\n",
    "mlflow.set_tracking_uri(mlflow_server)\n",
    "s3_base_path = \"s3://data/chicago/crimes/2024\""
   ]
  },
  {
   "cell_type": "code",
   "execution_count": 3,
   "metadata": {
    "ExecuteTime": {
     "end_time": "2024-06-06T12:33:22.668794Z",
     "start_time": "2024-06-06T12:33:22.215467Z"
    }
   },
   "outputs": [],
   "source": [
    "# Cargamos los datos para realizar nuestro estudio.\n",
    "X_train =  wr.s3.read_csv(f\"{s3_base_path}/final/X_train.csv\")\n",
    "y_train =  wr.s3.read_csv(f\"{s3_base_path}/final/y_train.csv\")\n",
    "\n",
    "X_test =  wr.s3.read_csv(f\"{s3_base_path}/final/X_test.csv\")\n",
    "y_test =  wr.s3.read_csv(f\"{s3_base_path}/final/y_test.csv\")"
   ]
  },
  {
   "cell_type": "markdown",
   "metadata": {},
   "source": [
    "## Arrancamos a experimentar"
   ]
  },
  {
   "cell_type": "code",
   "execution_count": 4,
   "metadata": {},
   "outputs": [],
   "source": [
    "from sklearn.metrics import classification_report\n",
    "from sklearn.metrics import confusion_matrix, ConfusionMatrixDisplay\n",
    "import matplotlib.pyplot as plt\n",
    "\n",
    "# Creamos una función para mostrar métricas\n",
    "def metrics(model, X_test, y_test):\n",
    "\n",
    "    y_pred = model.predict(X_test)\n",
    "    cr = classification_report(y_test, y_pred, output_dict=True, zero_division=0)\n",
    "\n",
    "    # Graficamos matriz de confusion\n",
    "    categories = y_test[\"fbi_code\"].astype(\"category\").cat.categories\n",
    "    cm = confusion_matrix(y_test, y_pred, labels=categories)\n",
    "    disp = ConfusionMatrixDisplay(confusion_matrix=cm, display_labels=categories)\n",
    "    fig, ax = plt.subplots(figsize=(15,15))\n",
    "    ax.grid(False)\n",
    "    disp.plot(ax=ax)\n",
    "    plt.close(fig)\n",
    "\n",
    "    return cr, fig"
   ]
  },
  {
   "cell_type": "markdown",
   "metadata": {},
   "source": [
    "Antes de poder realizar experimentos, vamos a crear el experimento en MLFLow, pero para evitar desorden, vamos a usar una función que se fije primero si el experimento existe, si esto es así, devuelve su ID.\n",
    "\n",
    "Además creamos el nombre del run padre con el que vamos a ir registrando las ejecuciones."
   ]
  },
  {
   "cell_type": "code",
   "execution_count": 5,
   "metadata": {
    "ExecuteTime": {
     "end_time": "2024-06-06T12:33:35.350189Z",
     "start_time": "2024-06-06T12:33:35.106741Z"
    }
   },
   "outputs": [
    {
     "name": "stdout",
     "output_type": "stream",
     "text": [
      "1\n"
     ]
    }
   ],
   "source": [
    "import datetime\n",
    "from mlflow_aux import get_or_create_experiment\n",
    "# Creemos el experimento\n",
    "experiment_id = get_or_create_experiment(\"Chicago Crimes 2024\")\n",
    "print(experiment_id)\n",
    "run_name_parent = \"dtc_test\"  + datetime.datetime.today().strftime('%Y/%m/%d-%H:%M:%S\"')"
   ]
  },
  {
   "cell_type": "code",
   "execution_count": 6,
   "metadata": {},
   "outputs": [
    {
     "name": "stderr",
     "output_type": "stream",
     "text": [
      "c:\\Users\\Usuario\\Documents\\Filen.IA\\Bimestre_3\\MLOps1\\aprendizaje_maquina_II\\.venv\\Lib\\site-packages\\sklearn\\model_selection\\_split.py:811: UserWarning: The least populated class in y has only 1 members, which is less than n_splits=5.\n",
      "  warnings.warn(\n"
     ]
    },
    {
     "name": "stdout",
     "output_type": "stream",
     "text": [
      "🏃 View run Trial: 0 at: http://localhost:5001/#/experiments/1/runs/82e33f8eac9d4ed6ad2628d37e119c90\n",
      "🧪 View experiment at: http://localhost:5001/#/experiments/1\n",
      "Initial trial 0 achieved value: 0.9990706655881241\n"
     ]
    },
    {
     "name": "stderr",
     "output_type": "stream",
     "text": [
      "c:\\Users\\Usuario\\Documents\\Filen.IA\\Bimestre_3\\MLOps1\\aprendizaje_maquina_II\\.venv\\Lib\\site-packages\\sklearn\\model_selection\\_split.py:811: UserWarning: The least populated class in y has only 1 members, which is less than n_splits=5.\n",
      "  warnings.warn(\n"
     ]
    },
    {
     "name": "stdout",
     "output_type": "stream",
     "text": [
      "🏃 View run Trial: 1 at: http://localhost:5001/#/experiments/1/runs/cf4651860a4f4faf9b15aef2f261205d\n",
      "🧪 View experiment at: http://localhost:5001/#/experiments/1\n",
      "Trial 1 achieved value: 0.9997559307893031 with  0.0685% improvement\n"
     ]
    },
    {
     "name": "stderr",
     "output_type": "stream",
     "text": [
      "c:\\Users\\Usuario\\Documents\\Filen.IA\\Bimestre_3\\MLOps1\\aprendizaje_maquina_II\\.venv\\Lib\\site-packages\\sklearn\\model_selection\\_split.py:811: UserWarning: The least populated class in y has only 1 members, which is less than n_splits=5.\n",
      "  warnings.warn(\n"
     ]
    },
    {
     "name": "stdout",
     "output_type": "stream",
     "text": [
      "🏃 View run Trial: 2 at: http://localhost:5001/#/experiments/1/runs/68d6fc6d2c43420f93b68f2e991a1199\n",
      "🧪 View experiment at: http://localhost:5001/#/experiments/1\n",
      "Trial 2 achieved value: 0.9998022298170177 with  0.0046% improvement\n"
     ]
    },
    {
     "name": "stderr",
     "output_type": "stream",
     "text": [
      "c:\\Users\\Usuario\\Documents\\Filen.IA\\Bimestre_3\\MLOps1\\aprendizaje_maquina_II\\.venv\\Lib\\site-packages\\sklearn\\model_selection\\_split.py:811: UserWarning: The least populated class in y has only 1 members, which is less than n_splits=5.\n",
      "  warnings.warn(\n"
     ]
    },
    {
     "name": "stdout",
     "output_type": "stream",
     "text": [
      "🏃 View run Trial: 3 at: http://localhost:5001/#/experiments/1/runs/b73ed2dd1685462b80788b45421dcd01\n",
      "🧪 View experiment at: http://localhost:5001/#/experiments/1\n"
     ]
    },
    {
     "name": "stderr",
     "output_type": "stream",
     "text": [
      "c:\\Users\\Usuario\\Documents\\Filen.IA\\Bimestre_3\\MLOps1\\aprendizaje_maquina_II\\.venv\\Lib\\site-packages\\sklearn\\model_selection\\_split.py:811: UserWarning: The least populated class in y has only 1 members, which is less than n_splits=5.\n",
      "  warnings.warn(\n"
     ]
    },
    {
     "name": "stdout",
     "output_type": "stream",
     "text": [
      "🏃 View run Trial: 4 at: http://localhost:5001/#/experiments/1/runs/1d1078d8071e4970b39debd2a2d6542a\n",
      "🧪 View experiment at: http://localhost:5001/#/experiments/1\n"
     ]
    },
    {
     "name": "stderr",
     "output_type": "stream",
     "text": [
      "c:\\Users\\Usuario\\Documents\\Filen.IA\\Bimestre_3\\MLOps1\\aprendizaje_maquina_II\\.venv\\Lib\\site-packages\\sklearn\\model_selection\\_split.py:811: UserWarning: The least populated class in y has only 1 members, which is less than n_splits=5.\n",
      "  warnings.warn(\n"
     ]
    },
    {
     "name": "stdout",
     "output_type": "stream",
     "text": [
      "🏃 View run Trial: 5 at: http://localhost:5001/#/experiments/1/runs/dc1c79efd79e4d76860a5be5ffdc5cdb\n",
      "🧪 View experiment at: http://localhost:5001/#/experiments/1\n"
     ]
    },
    {
     "name": "stderr",
     "output_type": "stream",
     "text": [
      "c:\\Users\\Usuario\\Documents\\Filen.IA\\Bimestre_3\\MLOps1\\aprendizaje_maquina_II\\.venv\\Lib\\site-packages\\sklearn\\model_selection\\_split.py:811: UserWarning: The least populated class in y has only 1 members, which is less than n_splits=5.\n",
      "  warnings.warn(\n"
     ]
    },
    {
     "name": "stdout",
     "output_type": "stream",
     "text": [
      "🏃 View run Trial: 6 at: http://localhost:5001/#/experiments/1/runs/2b9112100bc94263a5f75fd3fb718b44\n",
      "🧪 View experiment at: http://localhost:5001/#/experiments/1\n"
     ]
    },
    {
     "name": "stderr",
     "output_type": "stream",
     "text": [
      "c:\\Users\\Usuario\\Documents\\Filen.IA\\Bimestre_3\\MLOps1\\aprendizaje_maquina_II\\.venv\\Lib\\site-packages\\sklearn\\model_selection\\_split.py:811: UserWarning: The least populated class in y has only 1 members, which is less than n_splits=5.\n",
      "  warnings.warn(\n"
     ]
    },
    {
     "name": "stdout",
     "output_type": "stream",
     "text": [
      "🏃 View run Trial: 7 at: http://localhost:5001/#/experiments/1/runs/a7eadb20e0f3450bb0cfdb2aec871dfd\n",
      "🧪 View experiment at: http://localhost:5001/#/experiments/1\n"
     ]
    },
    {
     "name": "stderr",
     "output_type": "stream",
     "text": [
      "c:\\Users\\Usuario\\Documents\\Filen.IA\\Bimestre_3\\MLOps1\\aprendizaje_maquina_II\\.venv\\Lib\\site-packages\\sklearn\\model_selection\\_split.py:811: UserWarning: The least populated class in y has only 1 members, which is less than n_splits=5.\n",
      "  warnings.warn(\n"
     ]
    },
    {
     "name": "stdout",
     "output_type": "stream",
     "text": [
      "🏃 View run Trial: 8 at: http://localhost:5001/#/experiments/1/runs/390e21c5968b45dc95d8b292fd8fa742\n",
      "🧪 View experiment at: http://localhost:5001/#/experiments/1\n"
     ]
    },
    {
     "name": "stderr",
     "output_type": "stream",
     "text": [
      "c:\\Users\\Usuario\\Documents\\Filen.IA\\Bimestre_3\\MLOps1\\aprendizaje_maquina_II\\.venv\\Lib\\site-packages\\sklearn\\model_selection\\_split.py:811: UserWarning: The least populated class in y has only 1 members, which is less than n_splits=5.\n",
      "  warnings.warn(\n"
     ]
    },
    {
     "name": "stdout",
     "output_type": "stream",
     "text": [
      "🏃 View run Trial: 9 at: http://localhost:5001/#/experiments/1/runs/774c0d6e8fb64090809176416322b23b\n",
      "🧪 View experiment at: http://localhost:5001/#/experiments/1\n"
     ]
    },
    {
     "name": "stderr",
     "output_type": "stream",
     "text": [
      "c:\\Users\\Usuario\\Documents\\Filen.IA\\Bimestre_3\\MLOps1\\aprendizaje_maquina_II\\.venv\\Lib\\site-packages\\sklearn\\model_selection\\_split.py:811: UserWarning: The least populated class in y has only 1 members, which is less than n_splits=5.\n",
      "  warnings.warn(\n"
     ]
    },
    {
     "name": "stdout",
     "output_type": "stream",
     "text": [
      "🏃 View run Trial: 10 at: http://localhost:5001/#/experiments/1/runs/120d7ce066644f65bcc995798c4dd911\n",
      "🧪 View experiment at: http://localhost:5001/#/experiments/1\n",
      "Trial 10 with no changes.\n"
     ]
    },
    {
     "name": "stderr",
     "output_type": "stream",
     "text": [
      "c:\\Users\\Usuario\\Documents\\Filen.IA\\Bimestre_3\\MLOps1\\aprendizaje_maquina_II\\.venv\\Lib\\site-packages\\sklearn\\model_selection\\_split.py:811: UserWarning: The least populated class in y has only 1 members, which is less than n_splits=5.\n",
      "  warnings.warn(\n"
     ]
    },
    {
     "name": "stdout",
     "output_type": "stream",
     "text": [
      "🏃 View run Trial: 11 at: http://localhost:5001/#/experiments/1/runs/5d8a82b04377449c9f867edd2462a564\n",
      "🧪 View experiment at: http://localhost:5001/#/experiments/1\n"
     ]
    },
    {
     "name": "stderr",
     "output_type": "stream",
     "text": [
      "c:\\Users\\Usuario\\Documents\\Filen.IA\\Bimestre_3\\MLOps1\\aprendizaje_maquina_II\\.venv\\Lib\\site-packages\\sklearn\\model_selection\\_split.py:811: UserWarning: The least populated class in y has only 1 members, which is less than n_splits=5.\n",
      "  warnings.warn(\n"
     ]
    },
    {
     "name": "stdout",
     "output_type": "stream",
     "text": [
      "🏃 View run Trial: 12 at: http://localhost:5001/#/experiments/1/runs/56fcc7ed1dd945eeada8cdd8a7d264af\n",
      "🧪 View experiment at: http://localhost:5001/#/experiments/1\n"
     ]
    },
    {
     "name": "stderr",
     "output_type": "stream",
     "text": [
      "c:\\Users\\Usuario\\Documents\\Filen.IA\\Bimestre_3\\MLOps1\\aprendizaje_maquina_II\\.venv\\Lib\\site-packages\\sklearn\\model_selection\\_split.py:811: UserWarning: The least populated class in y has only 1 members, which is less than n_splits=5.\n",
      "  warnings.warn(\n"
     ]
    },
    {
     "name": "stdout",
     "output_type": "stream",
     "text": [
      "🏃 View run Trial: 13 at: http://localhost:5001/#/experiments/1/runs/17129b68eaeb43fa926573f841397ec7\n",
      "🧪 View experiment at: http://localhost:5001/#/experiments/1\n"
     ]
    },
    {
     "name": "stderr",
     "output_type": "stream",
     "text": [
      "c:\\Users\\Usuario\\Documents\\Filen.IA\\Bimestre_3\\MLOps1\\aprendizaje_maquina_II\\.venv\\Lib\\site-packages\\sklearn\\model_selection\\_split.py:811: UserWarning: The least populated class in y has only 1 members, which is less than n_splits=5.\n",
      "  warnings.warn(\n"
     ]
    },
    {
     "name": "stdout",
     "output_type": "stream",
     "text": [
      "🏃 View run Trial: 14 at: http://localhost:5001/#/experiments/1/runs/a8412fb747334048a33bf87620d8427d\n",
      "🧪 View experiment at: http://localhost:5001/#/experiments/1\n"
     ]
    },
    {
     "name": "stderr",
     "output_type": "stream",
     "text": [
      "c:\\Users\\Usuario\\Documents\\Filen.IA\\Bimestre_3\\MLOps1\\aprendizaje_maquina_II\\.venv\\Lib\\site-packages\\sklearn\\model_selection\\_split.py:811: UserWarning: The least populated class in y has only 1 members, which is less than n_splits=5.\n",
      "  warnings.warn(\n"
     ]
    },
    {
     "name": "stdout",
     "output_type": "stream",
     "text": [
      "🏃 View run Trial: 15 at: http://localhost:5001/#/experiments/1/runs/c4dfb1d1f4714904800285c5e77106c3\n",
      "🧪 View experiment at: http://localhost:5001/#/experiments/1\n"
     ]
    },
    {
     "name": "stderr",
     "output_type": "stream",
     "text": [
      "c:\\Users\\Usuario\\Documents\\Filen.IA\\Bimestre_3\\MLOps1\\aprendizaje_maquina_II\\.venv\\Lib\\site-packages\\sklearn\\model_selection\\_split.py:811: UserWarning: The least populated class in y has only 1 members, which is less than n_splits=5.\n",
      "  warnings.warn(\n"
     ]
    },
    {
     "name": "stdout",
     "output_type": "stream",
     "text": [
      "🏃 View run Trial: 16 at: http://localhost:5001/#/experiments/1/runs/28e21b0540ec450680f3fa6c8352fe17\n",
      "🧪 View experiment at: http://localhost:5001/#/experiments/1\n"
     ]
    },
    {
     "name": "stderr",
     "output_type": "stream",
     "text": [
      "c:\\Users\\Usuario\\Documents\\Filen.IA\\Bimestre_3\\MLOps1\\aprendizaje_maquina_II\\.venv\\Lib\\site-packages\\sklearn\\model_selection\\_split.py:811: UserWarning: The least populated class in y has only 1 members, which is less than n_splits=5.\n",
      "  warnings.warn(\n"
     ]
    },
    {
     "name": "stdout",
     "output_type": "stream",
     "text": [
      "🏃 View run Trial: 17 at: http://localhost:5001/#/experiments/1/runs/6cff8facbef54ea6957d35daf8920fed\n",
      "🧪 View experiment at: http://localhost:5001/#/experiments/1\n"
     ]
    },
    {
     "name": "stderr",
     "output_type": "stream",
     "text": [
      "c:\\Users\\Usuario\\Documents\\Filen.IA\\Bimestre_3\\MLOps1\\aprendizaje_maquina_II\\.venv\\Lib\\site-packages\\sklearn\\model_selection\\_split.py:811: UserWarning: The least populated class in y has only 1 members, which is less than n_splits=5.\n",
      "  warnings.warn(\n"
     ]
    },
    {
     "name": "stdout",
     "output_type": "stream",
     "text": [
      "🏃 View run Trial: 18 at: http://localhost:5001/#/experiments/1/runs/d628ed257b9d49cf98b61d066750b2ba\n",
      "🧪 View experiment at: http://localhost:5001/#/experiments/1\n"
     ]
    },
    {
     "name": "stderr",
     "output_type": "stream",
     "text": [
      "c:\\Users\\Usuario\\Documents\\Filen.IA\\Bimestre_3\\MLOps1\\aprendizaje_maquina_II\\.venv\\Lib\\site-packages\\sklearn\\model_selection\\_split.py:811: UserWarning: The least populated class in y has only 1 members, which is less than n_splits=5.\n",
      "  warnings.warn(\n"
     ]
    },
    {
     "name": "stdout",
     "output_type": "stream",
     "text": [
      "🏃 View run Trial: 19 at: http://localhost:5001/#/experiments/1/runs/b340978e8924457aaa9cbba1875052f5\n",
      "🧪 View experiment at: http://localhost:5001/#/experiments/1\n"
     ]
    },
    {
     "name": "stderr",
     "output_type": "stream",
     "text": [
      "c:\\Users\\Usuario\\Documents\\Filen.IA\\Bimestre_3\\MLOps1\\aprendizaje_maquina_II\\.venv\\Lib\\site-packages\\sklearn\\model_selection\\_split.py:811: UserWarning: The least populated class in y has only 1 members, which is less than n_splits=5.\n",
      "  warnings.warn(\n"
     ]
    },
    {
     "name": "stdout",
     "output_type": "stream",
     "text": [
      "🏃 View run Trial: 20 at: http://localhost:5001/#/experiments/1/runs/ac8bc8f50759440cb45bf7726d275622\n",
      "🧪 View experiment at: http://localhost:5001/#/experiments/1\n",
      "Trial 20 achieved value: 0.9998242155369628 with  0.0022% improvement\n"
     ]
    },
    {
     "name": "stderr",
     "output_type": "stream",
     "text": [
      "c:\\Users\\Usuario\\Documents\\Filen.IA\\Bimestre_3\\MLOps1\\aprendizaje_maquina_II\\.venv\\Lib\\site-packages\\sklearn\\model_selection\\_split.py:811: UserWarning: The least populated class in y has only 1 members, which is less than n_splits=5.\n",
      "  warnings.warn(\n"
     ]
    },
    {
     "name": "stdout",
     "output_type": "stream",
     "text": [
      "🏃 View run Trial: 21 at: http://localhost:5001/#/experiments/1/runs/06c23eb83bb8400aa8643f2200607301\n",
      "🧪 View experiment at: http://localhost:5001/#/experiments/1\n"
     ]
    },
    {
     "name": "stderr",
     "output_type": "stream",
     "text": [
      "c:\\Users\\Usuario\\Documents\\Filen.IA\\Bimestre_3\\MLOps1\\aprendizaje_maquina_II\\.venv\\Lib\\site-packages\\sklearn\\model_selection\\_split.py:811: UserWarning: The least populated class in y has only 1 members, which is less than n_splits=5.\n",
      "  warnings.warn(\n"
     ]
    },
    {
     "name": "stdout",
     "output_type": "stream",
     "text": [
      "🏃 View run Trial: 22 at: http://localhost:5001/#/experiments/1/runs/7822d928862044aaad16efe972a9f194\n",
      "🧪 View experiment at: http://localhost:5001/#/experiments/1\n"
     ]
    },
    {
     "name": "stderr",
     "output_type": "stream",
     "text": [
      "c:\\Users\\Usuario\\Documents\\Filen.IA\\Bimestre_3\\MLOps1\\aprendizaje_maquina_II\\.venv\\Lib\\site-packages\\sklearn\\model_selection\\_split.py:811: UserWarning: The least populated class in y has only 1 members, which is less than n_splits=5.\n",
      "  warnings.warn(\n"
     ]
    },
    {
     "name": "stdout",
     "output_type": "stream",
     "text": [
      "🏃 View run Trial: 23 at: http://localhost:5001/#/experiments/1/runs/0fa76dcc7a974e38a9a886b2337de0a0\n",
      "🧪 View experiment at: http://localhost:5001/#/experiments/1\n"
     ]
    },
    {
     "name": "stderr",
     "output_type": "stream",
     "text": [
      "c:\\Users\\Usuario\\Documents\\Filen.IA\\Bimestre_3\\MLOps1\\aprendizaje_maquina_II\\.venv\\Lib\\site-packages\\sklearn\\model_selection\\_split.py:811: UserWarning: The least populated class in y has only 1 members, which is less than n_splits=5.\n",
      "  warnings.warn(\n"
     ]
    },
    {
     "name": "stdout",
     "output_type": "stream",
     "text": [
      "🏃 View run Trial: 24 at: http://localhost:5001/#/experiments/1/runs/0412adc3f3614802b793376171e4bc7b\n",
      "🧪 View experiment at: http://localhost:5001/#/experiments/1\n",
      "Trial 24 achieved value: 0.9998518880893125 with  0.0028% improvement\n"
     ]
    },
    {
     "name": "stderr",
     "output_type": "stream",
     "text": [
      "c:\\Users\\Usuario\\Documents\\Filen.IA\\Bimestre_3\\MLOps1\\aprendizaje_maquina_II\\.venv\\Lib\\site-packages\\sklearn\\model_selection\\_split.py:811: UserWarning: The least populated class in y has only 1 members, which is less than n_splits=5.\n",
      "  warnings.warn(\n"
     ]
    },
    {
     "name": "stdout",
     "output_type": "stream",
     "text": [
      "🏃 View run Trial: 25 at: http://localhost:5001/#/experiments/1/runs/3adbe6a2aad848f29eb0645552059fd1\n",
      "🧪 View experiment at: http://localhost:5001/#/experiments/1\n",
      "Trial 25 achieved value: 0.9998855971384681 with  0.0034% improvement\n"
     ]
    },
    {
     "name": "stderr",
     "output_type": "stream",
     "text": [
      "c:\\Users\\Usuario\\Documents\\Filen.IA\\Bimestre_3\\MLOps1\\aprendizaje_maquina_II\\.venv\\Lib\\site-packages\\sklearn\\model_selection\\_split.py:811: UserWarning: The least populated class in y has only 1 members, which is less than n_splits=5.\n",
      "  warnings.warn(\n"
     ]
    },
    {
     "name": "stdout",
     "output_type": "stream",
     "text": [
      "🏃 View run Trial: 26 at: http://localhost:5001/#/experiments/1/runs/a1c49bc150c24852b3a86285ee35edb3\n",
      "🧪 View experiment at: http://localhost:5001/#/experiments/1\n"
     ]
    },
    {
     "name": "stderr",
     "output_type": "stream",
     "text": [
      "c:\\Users\\Usuario\\Documents\\Filen.IA\\Bimestre_3\\MLOps1\\aprendizaje_maquina_II\\.venv\\Lib\\site-packages\\sklearn\\model_selection\\_split.py:811: UserWarning: The least populated class in y has only 1 members, which is less than n_splits=5.\n",
      "  warnings.warn(\n"
     ]
    },
    {
     "name": "stdout",
     "output_type": "stream",
     "text": [
      "🏃 View run Trial: 27 at: http://localhost:5001/#/experiments/1/runs/f12610dc497f44d995e812ae4e18c7a0\n",
      "🧪 View experiment at: http://localhost:5001/#/experiments/1\n"
     ]
    },
    {
     "name": "stderr",
     "output_type": "stream",
     "text": [
      "c:\\Users\\Usuario\\Documents\\Filen.IA\\Bimestre_3\\MLOps1\\aprendizaje_maquina_II\\.venv\\Lib\\site-packages\\sklearn\\model_selection\\_split.py:811: UserWarning: The least populated class in y has only 1 members, which is less than n_splits=5.\n",
      "  warnings.warn(\n"
     ]
    },
    {
     "name": "stdout",
     "output_type": "stream",
     "text": [
      "🏃 View run Trial: 28 at: http://localhost:5001/#/experiments/1/runs/0bdc9e80a22f47e5b24beb53d4d3cf0d\n",
      "🧪 View experiment at: http://localhost:5001/#/experiments/1\n"
     ]
    },
    {
     "name": "stderr",
     "output_type": "stream",
     "text": [
      "c:\\Users\\Usuario\\Documents\\Filen.IA\\Bimestre_3\\MLOps1\\aprendizaje_maquina_II\\.venv\\Lib\\site-packages\\sklearn\\model_selection\\_split.py:811: UserWarning: The least populated class in y has only 1 members, which is less than n_splits=5.\n",
      "  warnings.warn(\n"
     ]
    },
    {
     "name": "stdout",
     "output_type": "stream",
     "text": [
      "🏃 View run Trial: 29 at: http://localhost:5001/#/experiments/1/runs/2ae6332ede4c4018ad35a6e250f7ec19\n",
      "🧪 View experiment at: http://localhost:5001/#/experiments/1\n",
      "Trial 29 achieved value: 0.9998967859831958 with  0.0011% improvement\n"
     ]
    },
    {
     "name": "stderr",
     "output_type": "stream",
     "text": [
      "2025/08/03 20:52:29 WARNING mlflow.utils.environment: Failed to resolve installed pip version. ``pip`` will be added to conda.yaml environment spec without a version specifier.\n",
      "Registered model 'dtc_model_dev' already exists. Creating a new version of this model...\n",
      "2025/08/03 20:52:29 INFO mlflow.store.model_registry.abstract_store: Waiting up to 300 seconds for model version to finish creation. Model name: dtc_model_dev, version 4\n",
      "Created version '4' of model 'dtc_model_dev'.\n"
     ]
    },
    {
     "name": "stdout",
     "output_type": "stream",
     "text": [
      "🏃 View run dtc_test2025/08/03-20:51:38\" at: http://localhost:5001/#/experiments/1/runs/84a3e2d821c94ea39a072bf4b64077b7\n",
      "🧪 View experiment at: http://localhost:5001/#/experiments/1\n"
     ]
    }
   ],
   "source": [
    "from mlflow.models import infer_signature\n",
    "import optuna \n",
    "from optuna_aux import champion_callback, objective\n",
    "from sklearn.tree import DecisionTreeClassifier\n",
    "\n",
    "with mlflow.start_run(experiment_id=experiment_id, run_name=run_name_parent, nested=True):\n",
    "    # Creamos un estudio de Optuna\n",
    "    # Optuna es un poco verboso, dejamos que solo nos muestre logs de errores\n",
    "    optuna.logging.set_verbosity(optuna.logging.ERROR)\n",
    "\n",
    "    study = optuna.create_study(direction=\"maximize\")\n",
    "    # Ejecutamos los trials de optimización de hiperparametros. Cada uno de estos trials se ejecuta con un run separado, pero \n",
    "    # está anidado al run padre.\n",
    "    # Notar la adición del `champion_callback` para controlar qué mensajes mostramos\n",
    "    # Para entender mejor esto ver la documentación de objective y champion_callback en optuna_aux\n",
    "    study.optimize(lambda trial: objective(trial, X_train, y_train[\"fbi_code\"], experiment_id), n_trials=30, callbacks=[champion_callback])\n",
    "\n",
    "\n",
    "    # Una vez que terminamos la búsqueda, guardamos los mejores parámetros en el run padre.\n",
    "    mlflow.log_params(study.best_params)\n",
    "    mlflow.log_metric(\"best_train_f1_weighted\", study.best_value)\n",
    "\n",
    "    mlflow.set_tags(\n",
    "        tags={\n",
    "            \"project\": \"Chicago Crimes 2024\",\n",
    "            \"optimizer_engine\": \"optuna\",\n",
    "            \"model_family\": \"sklearn\",\n",
    "            \"feature_set_version\": 1,\n",
    "        }\n",
    "    )\n",
    "\n",
    "    # Creamos el arbol\n",
    "    dec_tree_class_best = DecisionTreeClassifier(**study.best_params, random_state=42)\n",
    "    # Entrenamos\n",
    "    dec_tree_class_best.fit(X_train, y_train[\"fbi_code\"])\n",
    "\n",
    "    # Testeamos el modelo y logueamos el resultado\n",
    "    cr, cm = metrics(dec_tree_class_best, X_test, y_test)\n",
    "\n",
    "    # Logging all metrics in classification_report\n",
    "    mlflow.log_metric(\"test_accuracy\", cr.pop(\"accuracy\"))\n",
    "    for class_or_avg, metrics_dict in cr.items():\n",
    "        for metric, value in metrics_dict.items():\n",
    "            mlflow.log_metric(\"test_\" + class_or_avg + '_' + metric,value)\n",
    "    mlflow.log_figure(figure=cm, artifact_file=\"fda_cm.png\")\n",
    "\n",
    "    # Guardamos el artefacto del modelo\n",
    "    artifact_path = \"model\"\n",
    "\n",
    "    signature = infer_signature(X_train, dec_tree_class_best.predict(X_train))\n",
    "\n",
    "    mlflow.sklearn.log_model(\n",
    "        sk_model=dec_tree_class_best,\n",
    "        artifact_path=artifact_path,\n",
    "        signature=signature,\n",
    "        serialization_format='cloudpickle',\n",
    "        registered_model_name=\"dtc_model_dev\",\n",
    "        metadata={\"model_data_version\": 1}\n",
    "    )\n",
    "\n",
    "    # Obtenemos la ubicación del modelo guardado en MLFlow\n",
    "    model_uri = mlflow.get_artifact_uri(artifact_path)\n"
   ]
  },
  {
   "cell_type": "markdown",
   "metadata": {},
   "source": [
    "## Registramos el modelo \n",
    "\n",
    "Realizamos el registro del modelo en MLflow. En este registro se pone el modelo productivo que luego se usará para servir en formato on-line."
   ]
  },
  {
   "cell_type": "code",
   "execution_count": 7,
   "metadata": {
    "ExecuteTime": {
     "end_time": "2024-06-06T12:33:57.237830Z",
     "start_time": "2024-06-06T12:33:57.153650Z"
    }
   },
   "outputs": [
    {
     "name": "stderr",
     "output_type": "stream",
     "text": [
      "2025/08/03 20:52:29 INFO mlflow.store.model_registry.abstract_store: Waiting up to 300 seconds for model version to finish creation. Model name: dtc_model_prod, version 3\n"
     ]
    }
   ],
   "source": [
    "from mlflow import MlflowClient\n",
    "\n",
    "client = MlflowClient()\n",
    "name = \"dtc_model_prod\"\n",
    "desc = \"This classifier show FBI code based on Chicago Police Report\"\n",
    "\n",
    "# Creamos el modelo productivo\n",
    "if client.get_registered_model(name):\n",
    "    client.update_registered_model(name=name, description=desc)\n",
    "else:\n",
    "    client.create_registered_model(name=name, description=desc)\n",
    "\n",
    "# Guardamos como tag los hiper-parametros en la version del modelo\n",
    "tags = dec_tree_class_best.get_params()\n",
    "tags[\"model\"] = type(dec_tree_class_best).__name__\n",
    "tags[\"f1-score\"] = cr[\"weighted avg\"][\"f1-score\"]\n",
    "\n",
    "# Guardamos la version del modelo\n",
    "result = client.create_model_version(\n",
    "    name=name,\n",
    "    source=model_uri,\n",
    "    run_id=model_uri.split(\"/\")[-3],\n",
    "    tags=tags\n",
    ")\n",
    "\n",
    "# Y creamos como la version con el alias de champion para poder levantarlo en nuestro\n",
    "# proceso de servicio del modelo on-line.\n",
    "client.set_registered_model_alias(name, \"champion\", result.version)"
   ]
  }
 ],
 "metadata": {
  "kernelspec": {
   "display_name": "aprendizaje_maquina_II",
   "language": "python",
   "name": "python3"
  },
  "language_info": {
   "codemirror_mode": {
    "name": "ipython",
    "version": 3
   },
   "file_extension": ".py",
   "mimetype": "text/x-python",
   "name": "python",
   "nbconvert_exporter": "python",
   "pygments_lexer": "ipython3",
   "version": "3.11.13"
  }
 },
 "nbformat": 4,
 "nbformat_minor": 4
}
