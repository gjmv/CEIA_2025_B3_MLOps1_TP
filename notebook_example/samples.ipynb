{
 "cells": [
  {
   "cell_type": "code",
   "execution_count": 1,
   "metadata": {
    "ExecuteTime": {
     "end_time": "2024-06-06T12:33:18.162188Z",
     "start_time": "2024-06-06T12:33:18.155786Z"
    }
   },
   "outputs": [
    {
     "name": "stdout",
     "output_type": "stream",
     "text": [
      "env: AWS_ACCESS_KEY_ID=minio\n",
      "env: AWS_SECRET_ACCESS_KEY=minio123\n",
      "env: MLFLOW_S3_ENDPOINT_URL=http://localhost:9000\n",
      "env: AWS_ENDPOINT_URL_S3=http://localhost:9000\n"
     ]
    }
   ],
   "source": [
    "# Para que funciones, todos nuestros scripts debemos exportar las siguientes variables de entorno\n",
    "%env AWS_ACCESS_KEY_ID=minio   \n",
    "%env AWS_SECRET_ACCESS_KEY=minio123 \n",
    "%env MLFLOW_S3_ENDPOINT_URL=http://localhost:9000\n",
    "%env AWS_ENDPOINT_URL_S3=http://localhost:9000"
   ]
  },
  {
   "cell_type": "markdown",
   "metadata": {},
   "source": [
    "### Cargamos los datos con las columnas preprocesadas y separamos en features y target"
   ]
  },
  {
   "cell_type": "code",
   "execution_count": 2,
   "metadata": {},
   "outputs": [],
   "source": [
    "import awswrangler as wr\n",
    "import json\n",
    "\n",
    "s3_base_path = \"s3://data/chicago/crimes/2024\"\n",
    "\n",
    "data_preprocessed_path = f\"{s3_base_path}/chicago_crimes_2024_preprocessed.csv\"\n",
    "dataset = wr.s3.read_csv(data_preprocessed_path)\n",
    "target_col = \"fbi_code\"\n",
    "\n",
    "# Separamos los features y el target\n",
    "X = dataset.drop(columns=target_col)\n",
    "y = dataset[target_col]\n"
   ]
  },
  {
   "cell_type": "markdown",
   "metadata": {},
   "source": [
    "Tomamos una muestra e imprimimos los valores que nos servirán para probar la API y comparar el resultado."
   ]
  },
  {
   "cell_type": "code",
   "execution_count": 3,
   "metadata": {},
   "outputs": [
    {
     "name": "stdout",
     "output_type": "stream",
     "text": [
      "{\n",
      "  \"features\": {\n",
      "    \"iucr\": \"143A\",\n",
      "    \"primary_type\": \"WEAPONS VIOLATION\",\n",
      "    \"description\": \"UNLAWFUL POSSESSION - HANDGUN\",\n",
      "    \"location_description\": \"ALLEY\",\n",
      "    \"arrest\": false,\n",
      "    \"domestic\": false,\n",
      "    \"beat\": 1021,\n",
      "    \"district\": 10,\n",
      "    \"ward\": 24,\n",
      "    \"community_area\": 29,\n",
      "    \"latitude\": 41.861951076,\n",
      "    \"longitude\": -87.715286422,\n",
      "    \"mes\": 9,\n",
      "    \"dia_mes\": 27,\n",
      "    \"dia_semana\": 4,\n",
      "    \"hora\": 16\n",
      "  }\n",
      "}\n",
      "True value: 15\n"
     ]
    }
   ],
   "source": [
    "idx = X.sample(1).index[0]\n",
    "x_data = X.loc[idx]\n",
    "print(json.dumps({\"features\": x_data.to_dict()}, indent=2))\n",
    "\n",
    "print(f\"True value: {y.loc[idx]}\")"
   ]
  }
 ],
 "metadata": {
  "kernelspec": {
   "display_name": "aprendizaje_maquina_II",
   "language": "python",
   "name": "python3"
  },
  "language_info": {
   "codemirror_mode": {
    "name": "ipython",
    "version": 3
   },
   "file_extension": ".py",
   "mimetype": "text/x-python",
   "name": "python",
   "nbconvert_exporter": "python",
   "pygments_lexer": "ipython3",
   "version": "3.11.13"
  }
 },
 "nbformat": 4,
 "nbformat_minor": 4
}
