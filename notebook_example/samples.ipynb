{
 "cells": [
  {
   "cell_type": "code",
   "execution_count": 1,
   "metadata": {
    "ExecuteTime": {
     "end_time": "2024-06-06T12:33:18.162188Z",
     "start_time": "2024-06-06T12:33:18.155786Z"
    }
   },
   "outputs": [
    {
     "name": "stdout",
     "output_type": "stream",
     "text": [
      "env: AWS_ACCESS_KEY_ID=minio\n",
      "env: AWS_SECRET_ACCESS_KEY=minio123\n",
      "env: MLFLOW_S3_ENDPOINT_URL=http://localhost:9000\n",
      "env: AWS_ENDPOINT_URL_S3=http://localhost:9000\n"
     ]
    }
   ],
   "source": [
    "# Para que funciones, todos nuestros scripts debemos exportar las siguientes variables de entorno\n",
    "%env AWS_ACCESS_KEY_ID=minio   \n",
    "%env AWS_SECRET_ACCESS_KEY=minio123 \n",
    "%env MLFLOW_S3_ENDPOINT_URL=http://localhost:9000\n",
    "%env AWS_ENDPOINT_URL_S3=http://localhost:9000"
   ]
  },
  {
   "cell_type": "code",
   "execution_count": 2,
   "metadata": {},
   "outputs": [],
   "source": [
    "import awswrangler as wr\n",
    "import json\n",
    "\n",
    "s3_base_path = \"s3://data/chicago/crimes/2024\"\n",
    "\n",
    "data_preprocessed_path = f\"{s3_base_path}/chicago_crimes_2024_preprocessed.csv\"\n",
    "dataset = wr.s3.read_csv(data_preprocessed_path)\n",
    "target_col = \"fbi_code\"\n",
    "\n",
    "# Separamos los features y el target\n",
    "X = dataset.drop(columns=target_col)\n",
    "y = dataset[target_col]\n"
   ]
  },
  {
   "cell_type": "code",
   "execution_count": 3,
   "metadata": {},
   "outputs": [
    {
     "name": "stdout",
     "output_type": "stream",
     "text": [
      "{\n",
      "  \"features\": {\n",
      "    \"iucr\": \"0910\",\n",
      "    \"primary_type\": \"MOTOR VEHICLE THEFT\",\n",
      "    \"description\": \"AUTOMOBILE\",\n",
      "    \"location_description\": \"PARKING LOT / GARAGE (NON RESIDENTIAL)\",\n",
      "    \"arrest\": false,\n",
      "    \"domestic\": false,\n",
      "    \"beat\": 1831,\n",
      "    \"district\": 18,\n",
      "    \"ward\": 42,\n",
      "    \"community_area\": 8.0,\n",
      "    \"latitude\": 41.88993496,\n",
      "    \"longitude\": -87.637696349,\n",
      "    \"mes\": 11,\n",
      "    \"dia_mes\": 22,\n",
      "    \"dia_semana\": 4,\n",
      "    \"hora\": 17\n",
      "  }\n",
      "}\n",
      "True value: 07\n"
     ]
    }
   ],
   "source": [
    "idx = X.sample(1).index[0]\n",
    "x_data = X.loc[idx]\n",
    "print(json.dumps({\"features\": x_data.to_dict()}, indent=2))\n",
    "\n",
    "print(f\"True value: {y.loc[idx]}\")"
   ]
  }
 ],
 "metadata": {
  "kernelspec": {
   "display_name": "aprendizaje_maquina_II",
   "language": "python",
   "name": "python3"
  },
  "language_info": {
   "codemirror_mode": {
    "name": "ipython",
    "version": 3
   },
   "file_extension": ".py",
   "mimetype": "text/x-python",
   "name": "python",
   "nbconvert_exporter": "python",
   "pygments_lexer": "ipython3",
   "version": "3.11.13"
  }
 },
 "nbformat": 4,
 "nbformat_minor": 4
}
