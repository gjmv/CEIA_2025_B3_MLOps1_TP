{
 "cells": [
  {
   "cell_type": "code",
   "execution_count": 1,
   "metadata": {
    "ExecuteTime": {
     "end_time": "2024-06-06T12:33:18.162188Z",
     "start_time": "2024-06-06T12:33:18.155786Z"
    }
   },
   "outputs": [
    {
     "name": "stdout",
     "output_type": "stream",
     "text": [
      "env: AWS_ACCESS_KEY_ID=minio\n",
      "env: AWS_SECRET_ACCESS_KEY=minio123\n",
      "env: MLFLOW_S3_ENDPOINT_URL=http://localhost:9000\n",
      "env: AWS_ENDPOINT_URL_S3=http://localhost:9000\n"
     ]
    }
   ],
   "source": [
    "# Para que funciones, todos nuestros scripts debemos exportar las siguientes variables de entorno\n",
    "%env AWS_ACCESS_KEY_ID=minio   \n",
    "%env AWS_SECRET_ACCESS_KEY=minio123 \n",
    "%env MLFLOW_S3_ENDPOINT_URL=http://localhost:9000\n",
    "%env AWS_ENDPOINT_URL_S3=http://localhost:9000"
   ]
  },
  {
   "cell_type": "markdown",
   "metadata": {},
   "source": [
    "### Cargamos los datos con las columnas preprocesadas y separamos en features y target"
   ]
  },
  {
   "cell_type": "code",
   "execution_count": 2,
   "metadata": {},
   "outputs": [],
   "source": [
    "import awswrangler as wr\n",
    "import json\n",
    "\n",
    "s3_base_path = \"s3://data/chicago/crimes/2024\"\n",
    "\n",
    "data_preprocessed_path = f\"{s3_base_path}/chicago_crimes_2024_preprocessed.csv\"\n",
    "dataset = wr.s3.read_csv(data_preprocessed_path)\n",
    "target_col = \"fbi_code\"\n",
    "\n",
    "# Separamos los features y el target\n",
    "X = dataset.drop(columns=target_col)\n",
    "y = dataset[target_col]\n"
   ]
  },
  {
   "cell_type": "markdown",
   "metadata": {},
   "source": [
    "Tomamos una muestra e imprimimos los valores que nos servirán para probar la API y comparar el resultado."
   ]
  },
  {
   "cell_type": "code",
   "execution_count": 3,
   "metadata": {},
   "outputs": [
    {
     "name": "stdout",
     "output_type": "stream",
     "text": [
      "{\n",
      "  \"features\": {\n",
      "    \"iucr\": \"0460\",\n",
      "    \"primary_type\": \"BATTERY\",\n",
      "    \"description\": \"SIMPLE\",\n",
      "    \"location_description\": \"SIDEWALK\",\n",
      "    \"arrest\": false,\n",
      "    \"domestic\": false,\n",
      "    \"beat\": 132,\n",
      "    \"district\": 1,\n",
      "    \"ward\": 3,\n",
      "    \"community_area\": 33,\n",
      "    \"latitude\": 41.86168923,\n",
      "    \"longitude\": -87.620814811,\n",
      "    \"mes\": 8,\n",
      "    \"dia_mes\": 9,\n",
      "    \"dia_semana\": 4,\n",
      "    \"hora\": 10\n",
      "  }\n",
      "}\n",
      "True value: 08B\n"
     ]
    }
   ],
   "source": [
    "idx = X.sample(1).index[0]\n",
    "x_data = X.loc[idx]\n",
    "print(json.dumps({\"features\": x_data.to_dict()}, indent=2))\n",
    "\n",
    "print(f\"True value: {y.loc[idx]}\")"
   ]
  },
  {
   "cell_type": "markdown",
   "metadata": {},
   "source": [
    "### Prueba del endpoint con cache intermedia"
   ]
  },
  {
   "cell_type": "markdown",
   "metadata": {},
   "source": [
    "Probamos el endpoint a partir de un ejemplo al azar.  \n",
    "Utilizamos cache en redis para agilizar las consultas.  \n",
    "Si la predicción no se encuentra, se resuelve con una llamada a la API y se guarda en redis."
   ]
  },
  {
   "cell_type": "code",
   "execution_count": 4,
   "metadata": {},
   "outputs": [],
   "source": [
    "import requests\n",
    "import redis\n",
    "import hashlib"
   ]
  },
  {
   "cell_type": "code",
   "execution_count": 5,
   "metadata": {},
   "outputs": [],
   "source": [
    "# Conectamos al servidor valkey\n",
    "r = redis.Redis(host='localhost', port=6380, password='password', decode_responses=True)"
   ]
  },
  {
   "cell_type": "code",
   "execution_count": 6,
   "metadata": {},
   "outputs": [],
   "source": [
    "# Endpoint de la API\n",
    "api_predict_endpoint = \"http://localhost:8800/predict\"\n",
    "headers = {'Content-type': 'application/json', 'Accept': 'application/json'}"
   ]
  },
  {
   "cell_type": "code",
   "execution_count": 7,
   "metadata": {},
   "outputs": [],
   "source": [
    "def get_predict(dict_data):\n",
    "    # Hasheamos la info, primero buscamos en redis, si hay versión cacheada\n",
    "    # En nuestro caso no omitimos problemas que puedan aparecer por la representación numérica, pero deberíamos tenerlo en cuenta\n",
    "    hashed = hashlib.sha256(json.dumps(dict_data).encode()).hexdigest()\n",
    "\n",
    "    # Chequeamos si el hash esta almacenado en redis\n",
    "    cached = r.get(hashed)\n",
    "\n",
    "    if (cached is None):\n",
    "        # No se encontró la predicción cacheada, la obtenemos mediante la API y la guardamos\n",
    "\n",
    "        # Realizamos la llamada a la api con los datos obtenidos\n",
    "        response = requests.post(url=api_predict_endpoint,\n",
    "                                headers=headers,\n",
    "                                json={\"features\": dict_data})\n",
    "\n",
    "        # Validamos la respuesta\n",
    "        if (response.status_code != 200):\n",
    "            raise(Exception(f\"Error al consultar API: {response.status_code} - {response.reason}.\\n{response.text}\"))\n",
    "\n",
    "        prediction = json.dumps(response.json(), indent=2)\n",
    "        r.set(hashed, prediction)\n",
    "    else:\n",
    "        prediction = cached\n",
    "\n",
    "    return prediction, not (cached is None)"
   ]
  },
  {
   "cell_type": "code",
   "execution_count": 8,
   "metadata": {},
   "outputs": [
    {
     "name": "stdout",
     "output_type": "stream",
     "text": [
      "Predicción obtenida (desde cache):\n",
      "{\n",
      "  \"dtc_fbi_code_output\": \"14\",\n",
      "  \"lda_fbi_code_output\": \"14\"\n",
      "}\n"
     ]
    }
   ],
   "source": [
    "idx = X.sample(1).index[0]\n",
    "# idx = X.sample(1, random_state=42).index[0]\n",
    "data_sample = X.loc[idx].to_dict()\n",
    "\n",
    "prediction, from_cache = get_predict(data_sample)\n",
    "\n",
    "print(f\"Predicción obtenida (desde {'cache' if from_cache else 'API'}):\\n{prediction}\")"
   ]
  }
 ],
 "metadata": {
  "kernelspec": {
   "display_name": "Python 3",
   "language": "python",
   "name": "python3"
  },
  "language_info": {
   "codemirror_mode": {
    "name": "ipython",
    "version": 3
   },
   "file_extension": ".py",
   "mimetype": "text/x-python",
   "name": "python",
   "nbconvert_exporter": "python",
   "pygments_lexer": "ipython3",
   "version": "3.11.13"
  }
 },
 "nbformat": 4,
 "nbformat_minor": 4
}
